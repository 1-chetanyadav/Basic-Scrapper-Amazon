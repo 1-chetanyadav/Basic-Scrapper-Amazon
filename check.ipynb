{
 "cells": [
  {
   "cell_type": "markdown",
   "metadata": {},
   "source": [
    "It looks like you are trying to scrape a webpage using Python and BeautifulSoup. Here is a cleaned-up version of your code:\n",
    "\n"
   ]
  },
  {
   "cell_type": "code",
   "execution_count": 3,
   "metadata": {},
   "outputs": [
    {
     "name": "stdout",
     "output_type": "stream",
     "text": [
      "<class 'bytes'>\n",
      "<Response [200]>\n"
     ]
    }
   ],
   "source": [
    "import requests\n",
    "from bs4 import BeautifulSoup\n",
    "\n",
    "# URL of the webpage to scrape\n",
    "URL = 'https://www.amazon.in/b/?_encoding=UTF8&node=1389375031&ref_=sv_top_elec_mega_3'\n",
    "\n",
    "# Send a GET request to the webpage\n",
    "webpage = requests.get(URL)\n",
    "\n",
    "# Check the type of the webpage content\n",
    "print(type(webpage.content))  # Should print <class 'bytes'>\n",
    "\n",
    "# Check the response status\n",
    "print(webpage)  # Should print Response [200] if successful\n",
    "\n",
    "# Parse the webpage content\n",
    "soup = BeautifulSoup(webpage.content, \"html.parser\")\n",
    "\n"
   ]
  },
  {
   "cell_type": "code",
   "execution_count": 5,
   "metadata": {},
   "outputs": [
    {
     "name": "stdout",
     "output_type": "stream",
     "text": [
      "20\n"
     ]
    }
   ],
   "source": [
    "# Find all links with the specified class\n",
    "links = soup.find_all('a', class_='a-link-normal dcl-product-link')\n",
    "\n",
    "# Print the number of elements found\n",
    "print(len(links))  # Check how many elements exist"
   ]
  },
  {
   "cell_type": "markdown",
   "metadata": {},
   "source": [
    "\n",
    "\n",
    "Make sure to replace `'your_url_here'` with the actual URL you want to scrape."
   ]
  }
 ],
 "metadata": {
  "kernelspec": {
   "display_name": "Python 3",
   "language": "python",
   "name": "python3"
  },
  "language_info": {
   "codemirror_mode": {
    "name": "ipython",
    "version": 3
   },
   "file_extension": ".py",
   "mimetype": "text/x-python",
   "name": "python",
   "nbconvert_exporter": "python",
   "pygments_lexer": "ipython3",
   "version": "3.13.1"
  }
 },
 "nbformat": 4,
 "nbformat_minor": 2
}
