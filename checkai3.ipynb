{
 "cells": [
  {
   "cell_type": "markdown",
   "metadata": {},
   "source": [
    "I understand the issue now. The error occurs because the variable `name` is not defined in the `except` block. Let's ensure that `name` is always defined, even if an exception occurs.\n",
    "\n",
    "Here is the corrected version of the `get_Name` function:\n",
    "\n"
   ]
  },
  {
   "cell_type": "code",
   "execution_count": 9,
   "metadata": {},
   "outputs": [],
   "source": [
    "def get_Name(newsoup):\n",
    "    try:\n",
    "        # Attempt to find the product title\n",
    "        name_tag = newsoup.find('span', attrs={'id': 'productTitle'})\n",
    "        if name_tag:\n",
    "            name = name_tag.text.strip()\n",
    "        else:\n",
    "            name = \"(Name not found)\"\n",
    "        print(name)\n",
    "    except Exception as e:\n",
    "        name = \"(Error occurred)\"\n",
    "        print(f\"An error occurred: {e}\")\n",
    "    return name"
   ]
  },
  {
   "cell_type": "markdown",
   "metadata": {},
   "source": [
    "\n",
    "\n",
    "Similarly, update the `get_Price` function:\n",
    "\n"
   ]
  },
  {
   "cell_type": "code",
   "execution_count": 10,
   "metadata": {},
   "outputs": [],
   "source": [
    "def get_Price(newsoup):\n",
    "    try:\n",
    "        # Attempt to find the price\n",
    "        price_tag = newsoup.find('span', {'id': 'priceblock_ourprice'})\n",
    "        if price_tag:\n",
    "            price = price_tag.get_text(strip=True)\n",
    "        else:\n",
    "            price = \"N/A\"\n",
    "        print(price)\n",
    "    except Exception as e:\n",
    "        price = \"N/A\"\n",
    "        print(f\"An error occurred: {e}\")\n",
    "    return price"
   ]
  },
  {
   "cell_type": "markdown",
   "metadata": {},
   "source": [
    "\n",
    "\n",
    "Now, use these updated functions in your main scraping loop:\n",
    "\n"
   ]
  },
  {
   "cell_type": "code",
   "execution_count": 13,
   "metadata": {},
   "outputs": [
    {
     "name": "stdout",
     "output_type": "stream",
     "text": [
      "Loop = 0\n",
      "https://www.amazon.com/TCL-Mettalic-Bezel-Less-Android-40L4B/dp/B0CZ6QF29Y?ref_=oct_dx_dotd_B0CZ6QF29Y\n",
      "TCL 101 cm (40 inches) Metallic Bezel-Less Full HD Smart Android LED TV 40L4B (Black)\n",
      "N/A\n",
      "TCL 101 cm (40 inches) Metallic Bezel-Less Full HD Smart Android LED TV 40L4B (Black)\n",
      "N/A\n",
      "{'Name': ['TCL 101 cm (40 inches) Metallic Bezel-Less Full HD Smart Android LED TV 40L4B (Black)'], 'Price': ['N/A']}\n"
     ]
    }
   ],
   "source": [
    "import requests\n",
    "from bs4 import BeautifulSoup\n",
    "\n",
    "# Initialize the dictionary to store data\n",
    "d = {'Name': [], 'Price': []}\n",
    "\n",
    "# Example headers (ensure you have the correct headers)\n",
    "HEADERS = {\n",
    "    'User-Agent': 'Mozilla/5.0 (Windows NT 10.0; Win64; x64) AppleWebKit/537.36 (KHTML, like Gecko) Chrome/132.0.0.0 Safari/537.36'\n",
    "}\n",
    "\n",
    "# Example links list (ensure you have the correct links)\n",
    "\n",
    "links_list = [ \n",
    "\"/TCL-Mettalic-Bezel-Less-Android-40L4B/dp/B0CZ6QF29Y?ref_=oct_dx_dotd_B0CZ6QF29Y\"]\n",
    "\n",
    "\n",
    "# Loop through each link and scrape data\n",
    "Loop = 0\n",
    "\n",
    "for link in links_list:\n",
    "    try:\n",
    "        new_webpage = requests.get(\"https://www.amazon.in\" + link, headers=HEADERS)\n",
    "        print(\"Loop =\", Loop)\n",
    "        Loop += 1\n",
    "\n",
    "        newsoup = BeautifulSoup(new_webpage.content, \"html.parser\")\n",
    "        print(\"https://www.amazon.com\" + link)\n",
    "\n",
    "        # Get Name and Price using the correct soup object\n",
    "        name = get_Name(newsoup)\n",
    "        price = get_Price(newsoup)\n",
    "\n",
    "        # Append data to the dictionary\n",
    "        d['Name'].append(name)\n",
    "        d['Price'].append(price)\n",
    "\n",
    "        print(name)\n",
    "        print(price)\n",
    "    except requests.exceptions.RequestException as e:\n",
    "        print(f\"Request failed: {e}\")\n",
    "    except Exception as e:\n",
    "        print(f\"An error occurred: {e}\")\n",
    "\n",
    "# Print the final dictionary\n",
    "print(d)"
   ]
  },
  {
   "cell_type": "markdown",
   "metadata": {},
   "source": [
    "I see the issue now. The problem is that the `get_Name` and `get_Price` functions are not defined in the provided code snippet. Let's define these functions properly and ensure they handle cases where the elements might not be found.\n",
    "\n",
    "Here is the complete code with the `get_Name` and `get_Price` functions defined:\n",
    "\n"
   ]
  },
  {
   "cell_type": "code",
   "execution_count": 12,
   "metadata": {},
   "outputs": [],
   "source": [
    "# import requests\n",
    "# from bs4 import BeautifulSoup\n",
    "\n",
    "# # Initialize the dictionary to store data\n",
    "# d = {'Name': [], 'Price': []}\n",
    "\n",
    "# # Example headers (ensure you have the correct headers)\n",
    "# HEADERS = {\n",
    "#     'User-Agent': 'your_user_agent_here',\n",
    "#     'Accept-Language': 'en-US, en;q=0.5'\n",
    "# }\n",
    "\n",
    "# # Example links list (ensure you have the correct links)\n",
    "# links_list = [\n",
    "#     \"/Acer-inches-Ultra-Google-AR55UDIGU2875AT/dp/B0D9BYN6RJ?pd_rd_w=NLtw4&content-id=amzn1.sym.9f0dfbb8-37aa-43b2-9f27-1bd5a946e884&pf_rd_p=9f0dfbb8-37aa-43b2-9f27-1bd5a946e884&pf_rd_r=5CKRK2Y9TH8QABHZP0BZ&pd_rd_wg=AhZIi&pd_rd_r=bb2063d3-ac97-465a-964f-fce3c4e4e48c&pd_rd_i=B0D9BYN6RJ&ref_=oct_dx_dotd_B0D9BYN6RJ\",\n",
    "#     \"/TCL-Mettalic-Bezel-Less-Android-40L4B/dp/B0CZ6QF29Y?pd_rd_w=NLtw4&content-id=amzn1.sym.9f0dfbb8-37aa-43b2-9f27-1bd5a946e884&pf_rd_p=9f0dfbb8-37aa-43b2-9f27-1bd5a946e884&pf_rd_r=5CKRK2Y9TH8QABHZP0BZ&pd_rd_wg=AhZIi&pd_rd_r=bb2063d3-ac97-465a-964f-fce3c4e4e48c&pd_rd_i=B0CZ6QF29Y&ref_=oct_dx_dotd_B0CZ6QF29Y\",\n",
    "#     \"/TCL-inches-Ultra-Google-55C61B/dp/B0CZLFJ3QY?pd_rd_w=NLtw4&content-id=amzn1.sym.9f0dfbb8-37aa-43b2-9f27-1bd5a946e884&pf_rd_p=9f0dfbb8-37aa-43b2-9f27-1bd5a946e884&pf_rd_r=5CKRK2Y9TH8QABHZP0BZ&pd_rd_wg=AhZIi&pd_rd_r=bb2063d3-ac97-465a-964f-fce3c4e4e48c&pd_rd_i=B0CZLFJ3QY&ref_=oct_dx_dotd_B0CZLFJ3QY\",\n",
    "#     \"/Acer-Android-Optimisation-Speakers-Vision-Atmos/dp/B0D9BW9PPP?pd_rd_w=NLtw4&content-id=amzn1.sym.9f0dfbb8-37aa-43b2-9f27-1bd5a946e884&pf_rd_p=9f0dfbb8-37aa-43b2-9f27-1bd5a946e884&pf_rd_r=5CKRK2Y9TH8QABHZP0BZ&pd_rd_wg=AhZIi&pd_rd_r=bb2063d3-ac97-465a-964f-fce3c4e4e48c&pd_rd_i=B0D9BW9PPP&ref_=oct_dx_dotd_B0D9BW9PPP\"\n",
    "# ]\n",
    "\n",
    "# # Define the function to get the product name\n",
    "# def get_Name(newsoup):\n",
    "#     try:\n",
    "#         # Attempt to find the product title\n",
    "#         name_tag = newsoup.find('span', attrs={'id': 'productTitle'})\n",
    "#         if name_tag:\n",
    "#             name = name_tag.text.strip()\n",
    "#         else:\n",
    "#             name = \"(Name not found)\"\n",
    "#         print(name)\n",
    "#     except Exception as e:\n",
    "#         name = \"(Error occurred)\"\n",
    "#         print(f\"An error occurred: {e}\")\n",
    "#     return name\n",
    "\n",
    "# # Define the function to get the product price\n",
    "# def get_Price(newsoup):\n",
    "#     try:\n",
    "#         # Attempt to find the price\n",
    "#         price_tag = newsoup.find('span', {'id': 'priceblock_ourprice'})\n",
    "#         if price_tag:\n",
    "#             price = price_tag.get_text(strip=True)\n",
    "#         else:\n",
    "#             price = \"N/A\"\n",
    "#         print(price)\n",
    "#     except Exception as e:\n",
    "#         price = \"N/A\"\n",
    "#         print(f\"An error occurred: {e}\")\n",
    "#     return price\n",
    "\n",
    "# # Loop through each link and scrape data\n",
    "# Loop = 0\n",
    "\n",
    "# for link in links_list:\n",
    "#     try:\n",
    "#         new_webpage = requests.get(\"https://www.amazon.com\" + link, headers=HEADERS)\n",
    "#         new_webpage.raise_for_status()  # Raise an exception for HTTP errors\n",
    "#         print(\"Loop =\", Loop)\n",
    "#         Loop += 1\n",
    "\n",
    "#         newsoup = BeautifulSoup(new_webpage.content, \"html.parser\")\n",
    "#         print(\"https://www.amazon.com\" + link)\n",
    "\n",
    "#         # Get Name and Price using the correct soup object\n",
    "#         name = get_Name(newsoup)\n",
    "#         price = get_Price(newsoup)\n",
    "\n",
    "#         # Append data to the dictionary\n",
    "#         d['Name'].append(name)\n",
    "#         d['Price'].append(price)\n",
    "\n",
    "#         print(name)\n",
    "#         print(price)\n",
    "#     except requests.exceptions.RequestException as e:\n",
    "#         print(f\"Request failed: {e}\")\n",
    "#     except Exception as e:\n",
    "#         print(f\"An error occurred: {e}\")\n",
    "\n",
    "# # Print the final dictionary\n",
    "# print(d)"
   ]
  },
  {
   "cell_type": "markdown",
   "metadata": {},
   "source": [
    "\n",
    "\n",
    "This code defines the `get_Name` and `get_Price` functions and ensures that they handle cases where the elements might not be found. It also includes the main scraping loop that uses these functions to extract and store the product names and prices. Make sure to replace `your_user_agent_here` with your actual user agent string."
   ]
  },
  {
   "cell_type": "markdown",
   "metadata": {},
   "source": [
    "\n",
    "\n",
    "This code ensures that `name` and `price` are always defined, even if an exception occurs, thus avoiding the \"cannot access local variable\" error. Make sure to replace `your_user_agent_here` with your actual user agent string and update the `links_list` with the actual links you want to scrape."
   ]
  }
 ],
 "metadata": {
  "kernelspec": {
   "display_name": "Python 3",
   "language": "python",
   "name": "python3"
  },
  "language_info": {
   "codemirror_mode": {
    "name": "ipython",
    "version": 3
   },
   "file_extension": ".py",
   "mimetype": "text/x-python",
   "name": "python",
   "nbconvert_exporter": "python",
   "pygments_lexer": "ipython3",
   "version": "3.13.1"
  }
 },
 "nbformat": 4,
 "nbformat_minor": 2
}
