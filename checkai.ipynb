{
 "cells": [
  {
   "cell_type": "markdown",
   "metadata": {},
   "source": [
    "Your `get_Name` function looks mostly correct, but it would be good to handle potential exceptions, such as when the `productTitle` element is not found. Here is the updated version of your `get_Name` function with exception handling:\n",
    "\n"
   ]
  },
  {
   "cell_type": "code",
   "execution_count": 23,
   "metadata": {},
   "outputs": [],
   "source": [
    "import requests\n",
    "from bs4 import BeautifulSoup\n",
    "\n",
    "d = {'Name': [], 'Price': []}\n"
   ]
  },
  {
   "cell_type": "code",
   "execution_count": 24,
   "metadata": {},
   "outputs": [],
   "source": [
    "\n",
    "def get_Name(newsoup):\n",
    "    try:\n",
    "        Name=newsoup.find('span', attrs={'id':'productTitle'}).text\n",
    "        #Name=newsoup.find('span', attrs={'id':'productTitle'}).text.strip()\n",
    "        print(Name)\n",
    "    except requests.exceptions.RequestException as e:\n",
    "        print(f\"Request failed: {e}\")\n",
    "    except Exception as e:\n",
    "        print(f\"An error occurred: {e}\")\n",
    "    return Name\n",
    "# Example function to get Price (ensure this is defined correctly)\n",
    "\n",
    "def get_Price(newsoup):\n",
    "    try:\n",
    "        Price=newsoup.find('span', attrs={'class':'a-price-whole'})\n",
    "        print(Price)\n",
    "    except AttributeError:\n",
    "        Price=\" (Price not found) \"\n",
    "    return Price"
   ]
  },
  {
   "cell_type": "code",
   "execution_count": 25,
   "metadata": {},
   "outputs": [],
   "source": [
    "\n",
    "# Initialize the dictionary to store data\n",
    "\n",
    "\n",
    "# Example headers (ensure you have the correct headers)\n",
    "HEADERS = {\n",
    "    'User-Agent': 'Mozilla/5.0 (Windows NT 10.0; Win64; x64) AppleWebKit/537.36 (KHTML, like Gecko) Chrome/132.0.0.0 Safari/537.36'}\n",
    "\n",
    "# Example links list (ensure you have the correct links)\n",
    "links_list = [ \n",
    "\"/Acer-inches-Ultra-Google-AR55UDIGU2875AT/dp/B0D9BYN6RJ?pd_rd_w=NLtw4&content-id=amzn1.sym.9f0dfbb8-37aa-43b2-9f27-1bd5a946e884&pf_rd_p=9f0dfbb8-37aa-43b2-9f27-1bd5a946e884&pf_rd_r=5CKRK2Y9TH8QABHZP0BZ&pd_rd_wg=AhZIi&pd_rd_r=bb2063d3-ac97-465a-964f-fce3c4e4e48c&pd_rd_i=B0D9BYN6RJ&ref_=oct_dx_dotd_B0D9BYN6RJ\",\n",
    "\"/TCL-Mettalic-Bezel-Less-Android-40L4B/dp/B0CZ6QF29Y?pd_rd_w=NLtw4&content-id=amzn1.sym.9f0dfbb8-37aa-43b2-9f27-1bd5a946e884&pf_rd_p=9f0dfbb8-37aa-43b2-9f27-1bd5a946e884&pf_rd_r=5CKRK2Y9TH8QABHZP0BZ&pd_rd_wg=AhZIi&pd_rd_r=bb2063d3-ac97-465a-964f-fce3c4e4e48c&pd_rd_i=B0CZ6QF29Y&ref_=oct_dx_dotd_B0CZ6QF29Y\",\n",
    "\"/TCL-inches-Ultra-Google-55C61B/dp/B0CZLFJ3QY?pd_rd_w=NLtw4&content-id=amzn1.sym.9f0dfbb8-37aa-43b2-9f27-1bd5a946e884&pf_rd_p=9f0dfbb8-37aa-43b2-9f27-1bd5a946e884&pf_rd_r=5CKRK2Y9TH8QABHZP0BZ&pd_rd_wg=AhZIi&pd_rd_r=bb2063d3-ac97-465a-964f-fce3c4e4e48c&pd_rd_i=B0CZLFJ3QY&ref_=oct_dx_dotd_B0CZLFJ3QY\" \n",
    "\"/Acer-Android-Optimisation-Speakers-Vision-Atmos/dp/B0D9BW9PPP?pd_rd_w=NLtw4&content-id=amzn1.sym.9f0dfbb8-37aa-43b2-9f27-1bd5a946e884&pf_rd_p=9f0dfbb8-37aa-43b2-9f27-1bd5a946e884&pf_rd_r=5CKRK2Y9TH8QABHZP0BZ&pd_rd_wg=AhZIi&pd_rd_r=bb2063d3-ac97-465a-964f-fce3c4e4e48c&pd_rd_i=B0D9BW9PPP&ref_=oct_dx_dotd_B0D9BW9PPP\",\n",
    "]\n",
    "\n",
    "# Loop through each link and scrape data\n",
    "Loop = 0\n"
   ]
  },
  {
   "cell_type": "code",
   "execution_count": 26,
   "metadata": {},
   "outputs": [
    {
     "name": "stdout",
     "output_type": "stream",
     "text": [
      "Loop = 0\n",
      "https://www.amazon.com/Acer-inches-Ultra-Google-AR55UDIGU2875AT/dp/B0D9BYN6RJ?pd_rd_w=NLtw4&content-id=amzn1.sym.9f0dfbb8-37aa-43b2-9f27-1bd5a946e884&pf_rd_p=9f0dfbb8-37aa-43b2-9f27-1bd5a946e884&pf_rd_r=5CKRK2Y9TH8QABHZP0BZ&pd_rd_wg=AhZIi&pd_rd_r=bb2063d3-ac97-465a-964f-fce3c4e4e48c&pd_rd_i=B0D9BYN6RJ&ref_=oct_dx_dotd_B0D9BYN6RJ\n",
      "An error occurred: 'NoneType' object has no attribute 'text'\n",
      "An error occurred: cannot access local variable 'Name' where it is not associated with a value\n",
      "Loop = 1\n",
      "https://www.amazon.com/TCL-Mettalic-Bezel-Less-Android-40L4B/dp/B0CZ6QF29Y?pd_rd_w=NLtw4&content-id=amzn1.sym.9f0dfbb8-37aa-43b2-9f27-1bd5a946e884&pf_rd_p=9f0dfbb8-37aa-43b2-9f27-1bd5a946e884&pf_rd_r=5CKRK2Y9TH8QABHZP0BZ&pd_rd_wg=AhZIi&pd_rd_r=bb2063d3-ac97-465a-964f-fce3c4e4e48c&pd_rd_i=B0CZ6QF29Y&ref_=oct_dx_dotd_B0CZ6QF29Y\n",
      "An error occurred: 'NoneType' object has no attribute 'text'\n",
      "An error occurred: cannot access local variable 'Name' where it is not associated with a value\n",
      "Request failed: HTTPSConnectionPool(host='www.amazon.com', port=443): Max retries exceeded with url: /TCL-inches-Ultra-Google-55C61B/dp/B0CZLFJ3QY?pd_rd_w=NLtw4&content-id=amzn1.sym.9f0dfbb8-37aa-43b2-9f27-1bd5a946e884&pf_rd_p=9f0dfbb8-37aa-43b2-9f27-1bd5a946e884&pf_rd_r=5CKRK2Y9TH8QABHZP0BZ&pd_rd_wg=AhZIi&pd_rd_r=bb2063d3-ac97-465a-964f-fce3c4e4e48c&pd_rd_i=B0CZLFJ3QY&ref_=oct_dx_dotd_B0CZLFJ3QY/Acer-Android-Optimisation-Speakers-Vision-Atmos/dp/B0D9BW9PPP?pd_rd_w=NLtw4&content-id=amzn1.sym.9f0dfbb8-37aa-43b2-9f27-1bd5a946e884&pf_rd_p=9f0dfbb8-37aa-43b2-9f27-1bd5a946e884&pf_rd_r=5CKRK2Y9TH8QABHZP0BZ&pd_rd_wg=AhZIi&pd_rd_r=bb2063d3-ac97-465a-964f-fce3c4e4e48c&pd_rd_i=B0D9BW9PPP&ref_=oct_dx_dotd_B0D9BW9PPP (Caused by ConnectTimeoutError(<urllib3.connection.HTTPSConnection object at 0x000001A7E67BAE90>, 'Connection to www.amazon.com timed out. (connect timeout=None)'))\n",
      "{'Name': [], 'Price': []}\n"
     ]
    }
   ],
   "source": [
    "\n",
    "for link in links_list:\n",
    "    try:\n",
    "        new_webpage = requests.get(\"https://www.amazon.com\" + link, headers=HEADERS)\n",
    "        \n",
    "        print(\"Loop =\", Loop)\n",
    "        Loop += 1\n",
    "\n",
    "        newsoup = BeautifulSoup(new_webpage.content, \"html.parser\")\n",
    "        print(\"https://www.amazon.com\" + link)\n",
    "\n",
    "        # Get Name and Price using the correct soup object\n",
    "        name = get_Name(newsoup)\n",
    "        price = get_Price(newsoup)\n",
    "\n",
    "        # Append data to the dictionary\n",
    "        d['Name'].append(name)\n",
    "        d['Price'].append(price)\n",
    "\n",
    "        print(name)\n",
    "        print(price)\n",
    "    except requests.exceptions.RequestException as e:\n",
    "        print(f\"Request failed: {e}\")\n",
    "    except Exception as e:\n",
    "        print(f\"An error occurred: {e}\")\n",
    "\n",
    "\n",
    "\n",
    "# Print the final dictionary\n",
    "print(d)"
   ]
  },
  {
   "cell_type": "markdown",
   "metadata": {},
   "source": [
    "\n",
    "\n",
    "This code will handle potential errors gracefully and ensure that your scraping process continues even if some elements are not found."
   ]
  },
  {
   "cell_type": "code",
   "execution_count": null,
   "metadata": {},
   "outputs": [],
   "source": []
  }
 ],
 "metadata": {
  "kernelspec": {
   "display_name": "Python 3",
   "language": "python",
   "name": "python3"
  },
  "language_info": {
   "codemirror_mode": {
    "name": "ipython",
    "version": 3
   },
   "file_extension": ".py",
   "mimetype": "text/x-python",
   "name": "python",
   "nbconvert_exporter": "python",
   "pygments_lexer": "ipython3",
   "version": "3.13.1"
  }
 },
 "nbformat": 4,
 "nbformat_minor": 2
}
